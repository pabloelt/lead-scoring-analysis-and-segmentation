{
 "cells": [
  {
   "cell_type": "markdown",
   "id": "c7f65e25",
   "metadata": {},
   "source": [
    "# CODIGO DE EJECUCION"
   ]
  },
  {
   "cell_type": "markdown",
   "id": "73a0f588",
   "metadata": {},
   "source": [
    "**NOTA.-** Para poder usar este código de ejecución hay que lanzarlo desde exactamente el mismo entorno en el que fue creado.\n",
    "\n",
    "Se puede instalar ese entorno en la nueva máquina usando el environment.yml que creamos en el set up del proyecto\n",
    "\n",
    "Copiar el proyecto1.yml al directorio y en el terminal o anaconda prompt ejecutar:\n",
    "\n",
    "conda env create --file proyecto1.yml --name proyecto1"
   ]
  },
  {
   "cell_type": "code",
   "execution_count": 5,
   "id": "ffe7be80",
   "metadata": {},
   "outputs": [],
   "source": [
    "import cloudpickle\n",
    "import numpy as np\n",
    "import pandas as pd\n",
    "import warnings\n",
    "warnings.filterwarnings('ignore')\n",
    "\n",
    "ruta_proyecto = 'C:/Users/pelop/OneDrive/Desktop/Curso Data Science Pedro/2 CURSO DATA SCIENCE/03_MACHINE_LEARNING/07_CASOS/01_LEADSCORING'\n",
    "\n",
    "nombre_fichero_datos = 'validacion.csv'\n",
    "# Este sería el nuevo fichero que tenemos tras llevar el código en producción un tiempo\n",
    "# (normalmente 1 mes). Nosotros lo separamos al principio en el segundo notebook porque\n",
    "# no tenemos acceso a nuevos datos, pero la validación final se haría una vez puesto el\n",
    "# modelo en marcha y en producción al menos 1 mes después. La métrica de AUC, MAE, ...\n",
    "# para testar el modelo se hizo sobre la división de train-test con validación cruzada.\n",
    "\n",
    "ruta_completa = ruta_proyecto + '/02_Datos/02_Validacion/' + nombre_fichero_datos\n",
    "df = pd.read_csv(ruta_completa,index_col='id')\n",
    "\n",
    "df.drop_duplicates(inplace = True)\n",
    "df = df.loc[(df.no_llamar != 'OTROS') & (df.no_enviar_email != 'Yes') & (df.ult_actividad != 'Email Bounced')]\n",
    "                     \n",
    "variables_finales = ['ambito',\n",
    "                     'descarga_lm',\n",
    "                     'fuente',\n",
    "                     'ocupacion',\n",
    "                     'paginas_vistas_visita',\n",
    "                     'score_actividad',\n",
    "                     'score_perfil',\n",
    "                     'tiempo_en_site_total',\n",
    "                     'ult_actividad',\n",
    "                     'visitas_total']                     \n",
    "                     \n",
    "df = df[variables_finales]\n",
    "\n",
    "nombre_pipe_ejecucion = 'pipe_ejecucion.pickle'\n",
    "ruta_pipe_ejecucion = ruta_proyecto + '/04_Modelos/' + nombre_pipe_ejecucion\n",
    "with open(ruta_pipe_ejecucion, mode='rb') as file:\n",
    "   pipe_ejecucion = cloudpickle.load(file)\n",
    "\n",
    "scoring = pipe_ejecucion.predict_proba(df)[:, 1]\n",
    "\n",
    "nombre_disc_threshold = 'optimal_disc_threshold.pickle'\n",
    "ruta_disc_threshold = ruta_proyecto + '/04_Modelos/' + nombre_disc_threshold\n",
    "with open(ruta_disc_threshold, mode='rb') as file:\n",
    "   disc_threshold = cloudpickle.load(file)\n",
    "\n",
    "scoring_roi = np.where(scoring > disc_threshold,1,0)"
   ]
  },
  {
   "cell_type": "code",
   "execution_count": 6,
   "id": "7d890d05-5e2c-4320-97d7-e85ed586dba9",
   "metadata": {},
   "outputs": [
    {
     "data": {
      "text/plain": [
       "array([1, 1, 1, ..., 0, 1, 0])"
      ]
     },
     "execution_count": 6,
     "metadata": {},
     "output_type": "execute_result"
    }
   ],
   "source": [
    "scoring_roi"
   ]
  }
 ],
 "metadata": {
  "kernelspec": {
   "display_name": "Python 3 (ipykernel)",
   "language": "python",
   "name": "python3"
  },
  "language_info": {
   "codemirror_mode": {
    "name": "ipython",
    "version": 3
   },
   "file_extension": ".py",
   "mimetype": "text/x-python",
   "name": "python",
   "nbconvert_exporter": "python",
   "pygments_lexer": "ipython3",
   "version": "3.12.3"
  },
  "toc": {
   "base_numbering": 1,
   "nav_menu": {},
   "number_sections": true,
   "sideBar": true,
   "skip_h1_title": false,
   "title_cell": "Table of Contents",
   "title_sidebar": "Contents",
   "toc_cell": false,
   "toc_position": {},
   "toc_section_display": true,
   "toc_window_display": true
  },
  "varInspector": {
   "cols": {
    "lenName": 16,
    "lenType": 16,
    "lenVar": 40
   },
   "kernels_config": {
    "python": {
     "delete_cmd_postfix": "",
     "delete_cmd_prefix": "del ",
     "library": "var_list.py",
     "varRefreshCmd": "print(var_dic_list())"
    },
    "r": {
     "delete_cmd_postfix": ") ",
     "delete_cmd_prefix": "rm(",
     "library": "var_list.r",
     "varRefreshCmd": "cat(var_dic_list()) "
    }
   },
   "position": {
    "height": "388.85px",
    "left": "1070px",
    "right": "20px",
    "top": "120px",
    "width": "350px"
   },
   "types_to_exclude": [
    "module",
    "function",
    "builtin_function_or_method",
    "instance",
    "_Feature"
   ],
   "window_display": false
  }
 },
 "nbformat": 4,
 "nbformat_minor": 5
}
