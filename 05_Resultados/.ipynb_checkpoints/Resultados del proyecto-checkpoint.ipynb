{
 "cells": [
  {
   "cell_type": "markdown",
   "id": "17698aab-db92-44a7-b26d-014ab3cb489f",
   "metadata": {},
   "source": [
    "# RESULTADOS DEL PROYECTO"
   ]
  },
  {
   "cell_type": "markdown",
   "id": "d0b0caaf-bd74-4aad-a779-8004350addeb",
   "metadata": {},
   "source": [
    "## INSIGHTS DEL ANLYSIS EXPLORATORIO DE DATOS"
   ]
  },
  {
   "cell_type": "markdown",
   "id": "1dfd4c9d-5675-4cf0-a033-c9ca21a7ed65",
   "metadata": {},
   "source": [
    "**Leads:**\n",
    "\n",
    "* La mayoría de los potenciales clientes interesados en la empresa están desempleados, en particular el 88.84% de los leads.\n",
    "* Solo el 8.64% de los leads son profesionales que están trabajando.\n",
    "* El número de leads que provienen de estudiantes es muy bajo, representando solo el 2.05% de los leads.\n",
    "\n",
    "**Tasa de conversión de leads a clientes:**\n",
    "\n",
    "* La tasa de conversión actual de la empresa es del 41.70%.\n",
    "* Los profesionales que están trabajando presentan la tasa de conversión más alta, con un 90.74%.\n",
    "* Los leads desempleados, que son el grupo más grande, tienen una baja tasa de conversión del 36.52%.\n",
    "* Casi todos los leads que provienen de la fuente \"Referencia\" se convierten en clientes (tasa de conversión del 89.19%). Sin embargo, solo el 4.56% de los leads provienen de esta fuente.\n",
    "\n",
    "**Canales comerciales y de marketing:**\n",
    "\n",
    "* Se observa que el 99.98% y el 91.07% de los leads no quieren recibir llamadas telefónicas ni correos electrónicos, respectivamente. Por lo tanto, la mayoría de las personas que visitan el sitio web no están interesadas en el producto.\n",
    "* Las campañas de marketing por correo electrónico tienen un potencial no explotado, ya que la última actividad del 41.33% del total de leads fue abrir un correo electrónico, pero solo el 36.15% de ellos finalmente se convirtieron en clientes. Solo el 14.9% de los leads que desean ser contactados por correo electrónico terminan convirtiéndose en clientes de pago.\n",
    "* Las campañas de SMS han demostrado ser altamente efectivas, con una tasa de conversión del 60.82%.\n",
    "* La mayoría de los potenciales clientes no estaban interesados en recibir una copia gratuita del lead magnet. Aquellos que mostraron interés son principalmente desempleados y lo descargaron principalmente desde la página de aterrizaje.\n",
    "* Los leads convertidos pasan una mediana de 16 minutos en el sitio web y visitan un promedio de 2.5 páginas por sesión. En contraste, los leads no convertidos pasan una mediana de solo 6 minutos en el sitio."
   ]
  },
  {
   "cell_type": "markdown",
   "id": "44bcb9bc-25a7-49f3-9cb5-45db0a85d9fb",
   "metadata": {},
   "source": [
    "### Acciones recomendadas "
   ]
  },
  {
   "cell_type": "markdown",
   "id": "6bf9b645-3d5f-4a76-bc1c-78d9e9696623",
   "metadata": {},
   "source": [
    "**Acciones para mejorar la gestión de leads:**\n",
    "\n",
    "* Mejorar la calidad de las preguntas de encuestas o formularios para recopilar más información de los usuarios y reducir la aparición de valores NaN o predeterminados ('Seleccione').\n",
    "* Recopilar marcas de tiempo para las visitas al sitio web para habilitar el análisis de estacionalidad e implementar cookies para rastrear e identificar a los usuarios mientras navegan por diferentes páginas del sitio web.\n",
    "* Desarrollar un nuevo algoritmo de segmentación de leads que categorice los diversos perfiles de leads de la empresa, permitiendo identificar el grupo más adecuado para cada nuevo lead. Esto permitirá realizar acciones comerciales más personalizadas.\n",
    "\n",
    "**Acciones para mejorar la tasa de conversión de leads a clientes:**\n",
    "\n",
    "* Implementar un algoritmo predictivo de puntuación de leads que identifique a las personas con mayor probabilidad de convertirse en clientes de pago. Esto reducirá la carga de trabajo del equipo de ventas, permitiéndoles dedicar más tiempo a interactuar con los leads más prometedores.\n",
    "\n",
    "**Acciones para mejorar el rendimiento de los canales comerciales y de marketing:**\n",
    "\n",
    "* Mejorar la estrategia de contenido en todo el sitio web, lead magnet y correos electrónicos para atraer más tráfico e incrementar la participación de los usuarios. Enfocarse en crear contenido personalizado específicamente para profesionales que trabajen y estén interesados en el sector de ciencia de datos.\n",
    "* Desarrollar un programa de referidos para motivar a los clientes actuales a recomendar el curso a sus amigos, familiares y colegas.\n",
    "Asignar más recursos a la adquisición de leads a través del canal de 'Referencia', ya que demuestran la tasa de conversión más alta.\n",
    "* Aumentar las inversiones en campañas de SMS, dado su fuerte rendimiento."
   ]
  },
  {
   "cell_type": "markdown",
   "id": "b4a7d777-d3c2-4563-bd2d-d58338c9482a",
   "metadata": {},
   "source": [
    "## MODELO DE SEGMENTACIÓN"
   ]
  },
  {
   "cell_type": "markdown",
   "id": "d2aaae08-0c93-4fe2-a30c-e674ab41fa06",
   "metadata": {},
   "source": [
    "### Segmentos identificados"
   ]
  },
  {
   "cell_type": "markdown",
   "id": "e99995f9-a53d-4575-bcf3-44ea9e582d3f",
   "metadata": {},
   "source": [
    "**Segmento 0: Leads de muy calidad**\n",
    "\n",
    "* Origen: Formulario de Adición de Leads.\n",
    "* Última actividad: No categorizada.\n",
    "* Ocupación: Profesionales que están trabajando.\n",
    "* Mayor tiempo pasado en el sitio web.\n",
    "* Gran tasa de conversión. Nueve de cada diez leads en este segmento terminan comprando el producto de la empresa.\n",
    "  \n",
    "**Segmento 1: Leads de muy baja calidad**\n",
    "\n",
    "* Origen: Envío desde la Landing Page.\n",
    "* Última actividad: Correo electrónico abierto.\n",
    "* Ocupación: Estudiantes y desempleados.\n",
    "* Tiempo muy bajo pasado en el sitio web.\n",
    "* Grupo con la peor tasa de conversión.\n",
    "\n",
    "**Segmento 2: Leads de calidad media**\n",
    "\n",
    "* Origen: Envío desde la Landing Page.\n",
    "* Última actividad: SMS enviado.\n",
    "* Ocupación: Desempleados.\n",
    "* Pasan algo de tiempo en el sitio web.\n",
    "* Tasa de conversión moderada.\n",
    "\n",
    "**Segmento 3: Leads de baja calidad**\n",
    "\n",
    "* Origen: API.\n",
    "* Última actividad: Conversación en el chat.\n",
    "* Ocupación: Desempleados.\n",
    "* Tiempo muy bajo pasado en el sitio web.\n",
    "* Baja tasa de conversión."
   ]
  },
  {
   "cell_type": "markdown",
   "id": "9b96c300-8d3c-4edb-88a2-afbce42f0e90",
   "metadata": {},
   "source": [
    "### Insights de segmentación"
   ]
  },
  {
   "cell_type": "markdown",
   "id": "882f3c30-5dff-4f2b-8967-9df85321bb2f",
   "metadata": {},
   "source": [
    "1. Los leads más valiosos de la empresa son los profesionales que están trabajando y llegan a través del envío de formularios de leads.\n",
    "2. Aunque las campañas de SMS son generalmente efectivas, deberían ser dirigidas con mayor precisión:\n",
    "   * Enfocarse en profesionales que están trabajando y provienen de fuentes API, quienes pasan un tiempo por encima del promedio en el sitio web.\n",
    "   * Evitar enviar SMS a leads que provienen de envíos desde la Página de Aterrizaje y que pasan un tiempo mínimo en el sitio, ya que representan los leads de menor calidad y desvían recursos de campañas más prometedoras.\n",
    "3. La función de chat en vivo atrae principalmente leads de baja calidad. La empresa debería considerar la reasignación de recursos de este servicio y, para los leads provenientes de fuentes API, priorizar campañas de marketing por correo electrónico y SMS en su lugar."
   ]
  },
  {
   "cell_type": "markdown",
   "id": "1026c180-cb15-4b6b-9485-6339995c43e5",
   "metadata": {},
   "source": [
    "## MODELO DE PREDICCIÓN DE LEADS"
   ]
  },
  {
   "cell_type": "code",
   "execution_count": 1,
   "id": "17e854da-c6e8-4469-af30-37ac9716bdab",
   "metadata": {},
   "outputs": [],
   "source": [
    "import cloudpickle\n",
    "import numpy as np\n",
    "import pandas as pd\n",
    "import warnings\n",
    "warnings.filterwarnings('ignore')\n",
    "\n",
    "ruta_proyecto = 'C:/Users/pelop/OneDrive/Desktop/Curso Data Science Pedro/2 CURSO DATA SCIENCE/03_MACHINE_LEARNING/07_CASOS/01_LEADSCORING'\n",
    "\n",
    "nombre_fichero_datos = 'validacion.csv'\n",
    "# Este sería el nuevo fichero que tenemos tras llevar el código en producción un tiempo\n",
    "# (normalmente 1 mes). Nosotros lo separamos al principio en el segundo notebook porque\n",
    "# no tenemos acceso a nuevos datos, pero la validación final se haría una vez puesto el\n",
    "# modelo en marcha y en producción al menos 1 mes después. La métrica de AUC, MAE, ...\n",
    "# para testar el modelo se hizo sobre la división de train-test con validación cruzada.\n",
    "\n",
    "ruta_completa = ruta_proyecto + '/02_Datos/02_Validacion/' + nombre_fichero_datos\n",
    "df = pd.read_csv(ruta_completa,index_col='id')\n",
    "\n",
    "df.drop_duplicates(inplace = True)\n",
    "df = df.loc[(df.no_llamar != 'OTROS') & (df.no_enviar_email != 'Yes') & (df.ult_actividad != 'Email Bounced')]\n",
    "                     \n",
    "variables_finales = ['ambito',\n",
    "                     'descarga_lm',\n",
    "                     'fuente',\n",
    "                     'ocupacion',\n",
    "                     'paginas_vistas_visita',\n",
    "                     'score_actividad',\n",
    "                     'score_perfil',\n",
    "                     'tiempo_en_site_total',\n",
    "                     'ult_actividad',\n",
    "                     'visitas_total']                     \n",
    "y_true = df['compra']                    \n",
    "df = df[variables_finales]\n",
    "\n",
    "nombre_pipe_ejecucion = 'pipe_ejecucion.pickle'\n",
    "ruta_pipe_ejecucion = ruta_proyecto + '/04_Modelos/' + nombre_pipe_ejecucion\n",
    "with open(ruta_pipe_ejecucion, mode='rb') as file:\n",
    "   pipe_ejecucion = cloudpickle.load(file)\n",
    "\n",
    "scoring = pipe_ejecucion.predict_proba(df)[:, 1]\n",
    "\n",
    "nombre_disc_threshold = 'optimal_disc_threshold.pickle'\n",
    "ruta_disc_threshold = ruta_proyecto + '/04_Modelos/' + nombre_disc_threshold\n",
    "with open(ruta_disc_threshold, mode='rb') as file:\n",
    "   disc_threshold = cloudpickle.load(file)\n",
    "\n",
    "scoring_roi = np.where(scoring > disc_threshold,1,0)\n",
    "results = pd.DataFrame({'lead_score':scoring, 'manage_lead':scoring_roi}).set_index(df.index)\n",
    "\n",
    "# Model performance dataframe\n",
    "model_performance = pd.concat([results,y_true],axis=1)"
   ]
  },
  {
   "cell_type": "code",
   "execution_count": 2,
   "id": "bf963790-9c61-45d8-ae86-8937801fe982",
   "metadata": {},
   "outputs": [
    {
     "data": {
      "text/html": [
       "<div>\n",
       "<style scoped>\n",
       "    .dataframe tbody tr th:only-of-type {\n",
       "        vertical-align: middle;\n",
       "    }\n",
       "\n",
       "    .dataframe tbody tr th {\n",
       "        vertical-align: top;\n",
       "    }\n",
       "\n",
       "    .dataframe thead th {\n",
       "        text-align: right;\n",
       "    }\n",
       "</style>\n",
       "<table border=\"1\" class=\"dataframe\">\n",
       "  <thead>\n",
       "    <tr style=\"text-align: right;\">\n",
       "      <th></th>\n",
       "      <th>lead_score</th>\n",
       "      <th>manage_lead</th>\n",
       "      <th>compra</th>\n",
       "    </tr>\n",
       "    <tr>\n",
       "      <th>id</th>\n",
       "      <th></th>\n",
       "      <th></th>\n",
       "      <th></th>\n",
       "    </tr>\n",
       "  </thead>\n",
       "  <tbody>\n",
       "    <tr>\n",
       "      <th>604185</th>\n",
       "      <td>0.435116</td>\n",
       "      <td>1</td>\n",
       "      <td>1</td>\n",
       "    </tr>\n",
       "    <tr>\n",
       "      <th>594504</th>\n",
       "      <td>0.149951</td>\n",
       "      <td>1</td>\n",
       "      <td>0</td>\n",
       "    </tr>\n",
       "    <tr>\n",
       "      <th>588993</th>\n",
       "      <td>0.935935</td>\n",
       "      <td>1</td>\n",
       "      <td>1</td>\n",
       "    </tr>\n",
       "    <tr>\n",
       "      <th>647977</th>\n",
       "      <td>0.358657</td>\n",
       "      <td>1</td>\n",
       "      <td>0</td>\n",
       "    </tr>\n",
       "    <tr>\n",
       "      <th>584415</th>\n",
       "      <td>0.343810</td>\n",
       "      <td>1</td>\n",
       "      <td>0</td>\n",
       "    </tr>\n",
       "    <tr>\n",
       "      <th>...</th>\n",
       "      <td>...</td>\n",
       "      <td>...</td>\n",
       "      <td>...</td>\n",
       "    </tr>\n",
       "    <tr>\n",
       "      <th>581723</th>\n",
       "      <td>0.122365</td>\n",
       "      <td>1</td>\n",
       "      <td>0</td>\n",
       "    </tr>\n",
       "    <tr>\n",
       "      <th>581456</th>\n",
       "      <td>0.955936</td>\n",
       "      <td>1</td>\n",
       "      <td>1</td>\n",
       "    </tr>\n",
       "    <tr>\n",
       "      <th>632984</th>\n",
       "      <td>0.030023</td>\n",
       "      <td>0</td>\n",
       "      <td>0</td>\n",
       "    </tr>\n",
       "    <tr>\n",
       "      <th>616130</th>\n",
       "      <td>0.821079</td>\n",
       "      <td>1</td>\n",
       "      <td>1</td>\n",
       "    </tr>\n",
       "    <tr>\n",
       "      <th>641510</th>\n",
       "      <td>0.033821</td>\n",
       "      <td>0</td>\n",
       "      <td>0</td>\n",
       "    </tr>\n",
       "  </tbody>\n",
       "</table>\n",
       "<p>2084 rows × 3 columns</p>\n",
       "</div>"
      ],
      "text/plain": [
       "        lead_score  manage_lead  compra\n",
       "id                                     \n",
       "604185    0.435116            1       1\n",
       "594504    0.149951            1       0\n",
       "588993    0.935935            1       1\n",
       "647977    0.358657            1       0\n",
       "584415    0.343810            1       0\n",
       "...            ...          ...     ...\n",
       "581723    0.122365            1       0\n",
       "581456    0.955936            1       1\n",
       "632984    0.030023            0       0\n",
       "616130    0.821079            1       1\n",
       "641510    0.033821            0       0\n",
       "\n",
       "[2084 rows x 3 columns]"
      ]
     },
     "execution_count": 2,
     "metadata": {},
     "output_type": "execute_result"
    }
   ],
   "source": [
    "model_performance"
   ]
  },
  {
   "cell_type": "markdown",
   "id": "04804f55-7ac9-447a-96f4-f0c49b01014c",
   "metadata": {},
   "source": [
    "### KPIs "
   ]
  },
  {
   "cell_type": "markdown",
   "id": "2c59064b-e801-4261-9fe2-95075ae28627",
   "metadata": {},
   "source": [
    "#### Conversion rate"
   ]
  },
  {
   "cell_type": "code",
   "execution_count": 3,
   "id": "eda74694-4531-4473-aa6e-93c3a14e38b3",
   "metadata": {},
   "outputs": [
    {
     "data": {
      "text/plain": [
       "41.7"
      ]
     },
     "execution_count": 3,
     "metadata": {},
     "output_type": "execute_result"
    }
   ],
   "source": [
    "cr_asis = round(model_performance.compra.mean()*100,2)\n",
    "cr_asis"
   ]
  },
  {
   "cell_type": "code",
   "execution_count": 4,
   "id": "691622ce-823d-4506-934c-dcd46410035f",
   "metadata": {},
   "outputs": [
    {
     "data": {
      "text/plain": [
       "45.77"
      ]
     },
     "execution_count": 4,
     "metadata": {},
     "output_type": "execute_result"
    }
   ],
   "source": [
    "cr_tobe = round(model_performance[model_performance.manage_lead==1].compra.mean()*100,2)\n",
    "cr_tobe"
   ]
  },
  {
   "cell_type": "code",
   "execution_count": 5,
   "id": "30c3086e-b741-4c98-91c4-fc7be9e184b9",
   "metadata": {},
   "outputs": [
    {
     "data": {
      "text/plain": [
       "4.07"
      ]
     },
     "execution_count": 5,
     "metadata": {},
     "output_type": "execute_result"
    }
   ],
   "source": [
    "cr_improve = round((cr_tobe - cr_asis),2)\n",
    "cr_improve"
   ]
  },
  {
   "cell_type": "markdown",
   "id": "118947d5-d85e-4a86-9bde-9db9101542bd",
   "metadata": {},
   "source": [
    "#### Sales team workload"
   ]
  },
  {
   "cell_type": "code",
   "execution_count": 6,
   "id": "e7eeeae9-3281-4979-8b1b-6f5bcfc65964",
   "metadata": {},
   "outputs": [
    {
     "data": {
      "text/plain": [
       "2084"
      ]
     },
     "execution_count": 6,
     "metadata": {},
     "output_type": "execute_result"
    }
   ],
   "source": [
    "workload_asis = model_performance.shape[0]\n",
    "workload_asis"
   ]
  },
  {
   "cell_type": "code",
   "execution_count": 7,
   "id": "78e2106a-6f54-4faa-8b9a-e1670960e897",
   "metadata": {},
   "outputs": [
    {
     "data": {
      "text/plain": [
       "1890"
      ]
     },
     "execution_count": 7,
     "metadata": {},
     "output_type": "execute_result"
    }
   ],
   "source": [
    "workload_tobe = model_performance[model_performance.manage_lead==1].shape[0]\n",
    "workload_tobe"
   ]
  },
  {
   "cell_type": "code",
   "execution_count": 8,
   "id": "1acbe41a-3212-4dbc-9dae-ef7c59e3c5e0",
   "metadata": {},
   "outputs": [
    {
     "data": {
      "text/plain": [
       "-9.31"
      ]
     },
     "execution_count": 8,
     "metadata": {},
     "output_type": "execute_result"
    }
   ],
   "source": [
    "workload_improve = round((workload_tobe-workload_asis)/workload_asis *100,2)\n",
    "workload_improve"
   ]
  },
  {
   "cell_type": "markdown",
   "id": "759eff1a-d0ed-4965-9358-fcdd992a111d",
   "metadata": {},
   "source": [
    "#### Lost investment in not converted lead management"
   ]
  },
  {
   "cell_type": "code",
   "execution_count": 9,
   "id": "94ec82f0-ae08-4244-89e0-756b7835cb59",
   "metadata": {},
   "outputs": [
    {
     "data": {
      "text/plain": [
       "6075"
      ]
     },
     "execution_count": 9,
     "metadata": {},
     "output_type": "execute_result"
    }
   ],
   "source": [
    "ltc_avg_cost = 5\n",
    "price = 49.99\n",
    "\n",
    "lost_asis = model_performance[model_performance.compra == 0].shape[0]*ltc_avg_cost\n",
    "lost_asis"
   ]
  },
  {
   "cell_type": "code",
   "execution_count": 10,
   "id": "5d876e34-3f61-4bab-8744-4bd0d601018e",
   "metadata": {},
   "outputs": [
    {
     "data": {
      "text/plain": [
       "4325"
      ]
     },
     "execution_count": 10,
     "metadata": {},
     "output_type": "execute_result"
    }
   ],
   "source": [
    "lost_tobe = model_performance[(model_performance.manage_lead == 1) & (model_performance.compra == 1)].shape[0]*ltc_avg_cost\n",
    "lost_tobe"
   ]
  },
  {
   "cell_type": "code",
   "execution_count": 11,
   "id": "bb9dce23-e66f-4eb0-be1f-70cb32eb5713",
   "metadata": {},
   "outputs": [
    {
     "data": {
      "text/plain": [
       "-28.81"
      ]
     },
     "execution_count": 11,
     "metadata": {},
     "output_type": "execute_result"
    }
   ],
   "source": [
    "lost_improve = round((lost_tobe-lost_asis)/lost_asis*100,2)\n",
    "lost_improve"
   ]
  },
  {
   "cell_type": "markdown",
   "id": "8ca42f56-d819-4ec6-9f51-a8447661b2b2",
   "metadata": {},
   "source": [
    "#### Sales profit"
   ]
  },
  {
   "cell_type": "code",
   "execution_count": 12,
   "id": "29f1304a-895e-4938-a87c-1c1281428773",
   "metadata": {},
   "outputs": [
    {
     "data": {
      "text/plain": [
       "33021.31"
      ]
     },
     "execution_count": 12,
     "metadata": {},
     "output_type": "execute_result"
    }
   ],
   "source": [
    "sp_asis = round(model_performance[model_performance.compra == 1].shape[0]*(price - ltc_avg_cost) - lost_asis,2)\n",
    "sp_asis"
   ]
  },
  {
   "cell_type": "code",
   "execution_count": 13,
   "id": "8ddc15d0-ac8f-4704-944f-66b59f3adc05",
   "metadata": {},
   "outputs": [
    {
     "data": {
      "text/plain": [
       "34591.35"
      ]
     },
     "execution_count": 13,
     "metadata": {},
     "output_type": "execute_result"
    }
   ],
   "source": [
    "sp_tobe = round(model_performance[(model_performance.manage_lead == 1) & (model_performance.compra == 1)].shape[0] \\\n",
    "            *(price - ltc_avg_cost) - lost_tobe,2)\n",
    "sp_tobe"
   ]
  },
  {
   "cell_type": "code",
   "execution_count": 14,
   "id": "ee76b9fa-73c0-42fb-9e5a-bd5aa2c89403",
   "metadata": {},
   "outputs": [
    {
     "data": {
      "text/plain": [
       "4.75"
      ]
     },
     "execution_count": 14,
     "metadata": {},
     "output_type": "execute_result"
    }
   ],
   "source": [
    "sp_improve = round((sp_tobe-sp_asis)/sp_asis*100,2)\n",
    "sp_improve"
   ]
  },
  {
   "cell_type": "markdown",
   "id": "c4e9b705-0fc7-43d1-a3e3-d7946de51dc8",
   "metadata": {},
   "source": [
    "### Resultados finales"
   ]
  },
  {
   "cell_type": "code",
   "execution_count": 15,
   "id": "f175dbda-dfc1-4076-9ad3-7e1fd6c16990",
   "metadata": {},
   "outputs": [
    {
     "data": {
      "text/html": [
       "<div>\n",
       "<style scoped>\n",
       "    .dataframe tbody tr th:only-of-type {\n",
       "        vertical-align: middle;\n",
       "    }\n",
       "\n",
       "    .dataframe tbody tr th {\n",
       "        vertical-align: top;\n",
       "    }\n",
       "\n",
       "    .dataframe thead th {\n",
       "        text-align: right;\n",
       "    }\n",
       "</style>\n",
       "<table border=\"1\" class=\"dataframe\">\n",
       "  <thead>\n",
       "    <tr style=\"text-align: right;\">\n",
       "      <th></th>\n",
       "      <th>As is</th>\n",
       "      <th>To be</th>\n",
       "      <th>Improvements</th>\n",
       "    </tr>\n",
       "  </thead>\n",
       "  <tbody>\n",
       "    <tr>\n",
       "      <th>Conversion Rate</th>\n",
       "      <td>41.7</td>\n",
       "      <td>45.77</td>\n",
       "      <td>Increased by 4.07</td>\n",
       "    </tr>\n",
       "    <tr>\n",
       "      <th>Workload</th>\n",
       "      <td>2084</td>\n",
       "      <td>1890</td>\n",
       "      <td>Reduced by 9.31%</td>\n",
       "    </tr>\n",
       "    <tr>\n",
       "      <th>Lost investments</th>\n",
       "      <td>6075</td>\n",
       "      <td>4325</td>\n",
       "      <td>Reduced by 28.81%</td>\n",
       "    </tr>\n",
       "    <tr>\n",
       "      <th>Sales profit</th>\n",
       "      <td>33021.31</td>\n",
       "      <td>34591.35</td>\n",
       "      <td>Increased by 4.75%</td>\n",
       "    </tr>\n",
       "  </tbody>\n",
       "</table>\n",
       "</div>"
      ],
      "text/plain": [
       "                     As is     To be        Improvements\n",
       "Conversion Rate       41.7     45.77   Increased by 4.07\n",
       "Workload              2084      1890    Reduced by 9.31%\n",
       "Lost investments      6075      4325   Reduced by 28.81%\n",
       "Sales profit      33021.31  34591.35  Increased by 4.75%"
      ]
     },
     "execution_count": 15,
     "metadata": {},
     "output_type": "execute_result"
    }
   ],
   "source": [
    "kpis_final = pd.DataFrame({'Conversion Rate':[cr_asis,cr_tobe,'Increased by ' + str(cr_improve)],\n",
    "              'Workload':[workload_asis,workload_tobe,'Reduced by ' + str(abs(workload_improve)) + '%'],\n",
    "              'Lost investments':[lost_asis,lost_tobe,'Reduced by ' + str(abs(lost_improve)) + '%'],\n",
    "              'Sales profit':[sp_asis,sp_tobe,'Increased by ' + str(sp_improve) + '%']}).T\n",
    "\n",
    "kpis_final.rename(columns = {0:'As is',1:'To be',2:'Improvements'})"
   ]
  }
 ],
 "metadata": {
  "kernelspec": {
   "display_name": "Python 3 (ipykernel)",
   "language": "python",
   "name": "python3"
  },
  "language_info": {
   "codemirror_mode": {
    "name": "ipython",
    "version": 3
   },
   "file_extension": ".py",
   "mimetype": "text/x-python",
   "name": "python",
   "nbconvert_exporter": "python",
   "pygments_lexer": "ipython3",
   "version": "3.12.3"
  }
 },
 "nbformat": 4,
 "nbformat_minor": 5
}
